{
 "cells": [
  {
   "cell_type": "markdown",
   "metadata": {},
   "source": [
    "#### Sr. Engineer: Dhruv Singh <br> Course Name: EDHEC Portfolio Optimization <br> Lesson Name: Returns <br> Date Updated: 01/09/2022"
   ]
  },
  {
   "cell_type": "markdown",
   "metadata": {},
   "source": [
    "# Week 1.1: Returns\n",
    "\n",
    "## From Prices to Returns"
   ]
  },
  {
   "cell_type": "code",
   "execution_count": 1,
   "metadata": {},
   "outputs": [],
   "source": [
    "# libraries\n",
    "import numpy as np\n",
    "import pandas as pd"
   ]
  },
  {
   "cell_type": "markdown",
   "metadata": {},
   "source": [
    "## Reading data from a CSV file"
   ]
  },
  {
   "cell_type": "code",
   "execution_count": 2,
   "metadata": {},
   "outputs": [
    {
     "data": {
      "text/html": [
       "<div>\n",
       "<style scoped>\n",
       "    .dataframe tbody tr th:only-of-type {\n",
       "        vertical-align: middle;\n",
       "    }\n",
       "\n",
       "    .dataframe tbody tr th {\n",
       "        vertical-align: top;\n",
       "    }\n",
       "\n",
       "    .dataframe thead th {\n",
       "        text-align: right;\n",
       "    }\n",
       "</style>\n",
       "<table border=\"1\" class=\"dataframe\">\n",
       "  <thead>\n",
       "    <tr style=\"text-align: right;\">\n",
       "      <th></th>\n",
       "      <th>Date</th>\n",
       "      <th>QQQ</th>\n",
       "      <th>IWF</th>\n",
       "      <th>VOO</th>\n",
       "      <th>SPY</th>\n",
       "    </tr>\n",
       "  </thead>\n",
       "  <tbody>\n",
       "    <tr>\n",
       "      <th>0</th>\n",
       "      <td>10/1/2010</td>\n",
       "      <td>52.180000</td>\n",
       "      <td>53.889999</td>\n",
       "      <td>108.300003</td>\n",
       "      <td>118.489998</td>\n",
       "    </tr>\n",
       "    <tr>\n",
       "      <th>1</th>\n",
       "      <td>11/1/2010</td>\n",
       "      <td>52.090000</td>\n",
       "      <td>54.500000</td>\n",
       "      <td>108.180000</td>\n",
       "      <td>118.489998</td>\n",
       "    </tr>\n",
       "    <tr>\n",
       "      <th>2</th>\n",
       "      <td>12/1/2010</td>\n",
       "      <td>54.459999</td>\n",
       "      <td>57.259998</td>\n",
       "      <td>115.139999</td>\n",
       "      <td>125.750000</td>\n",
       "    </tr>\n",
       "    <tr>\n",
       "      <th>3</th>\n",
       "      <td>1/1/2011</td>\n",
       "      <td>56.000000</td>\n",
       "      <td>58.650002</td>\n",
       "      <td>117.699997</td>\n",
       "      <td>128.679993</td>\n",
       "    </tr>\n",
       "    <tr>\n",
       "      <th>4</th>\n",
       "      <td>2/1/2011</td>\n",
       "      <td>57.770000</td>\n",
       "      <td>60.660000</td>\n",
       "      <td>121.779999</td>\n",
       "      <td>133.149994</td>\n",
       "    </tr>\n",
       "    <tr>\n",
       "      <th>...</th>\n",
       "      <td>...</td>\n",
       "      <td>...</td>\n",
       "      <td>...</td>\n",
       "      <td>...</td>\n",
       "      <td>...</td>\n",
       "    </tr>\n",
       "    <tr>\n",
       "      <th>130</th>\n",
       "      <td>8/1/2021</td>\n",
       "      <td>379.950012</td>\n",
       "      <td>290.899994</td>\n",
       "      <td>415.049988</td>\n",
       "      <td>451.559998</td>\n",
       "    </tr>\n",
       "    <tr>\n",
       "      <th>131</th>\n",
       "      <td>9/1/2021</td>\n",
       "      <td>357.959991</td>\n",
       "      <td>274.040009</td>\n",
       "      <td>394.399994</td>\n",
       "      <td>429.140015</td>\n",
       "    </tr>\n",
       "    <tr>\n",
       "      <th>132</th>\n",
       "      <td>10/1/2021</td>\n",
       "      <td>386.109985</td>\n",
       "      <td>298.000000</td>\n",
       "      <td>422.160004</td>\n",
       "      <td>459.250000</td>\n",
       "    </tr>\n",
       "    <tr>\n",
       "      <th>133</th>\n",
       "      <td>11/1/2021</td>\n",
       "      <td>393.820007</td>\n",
       "      <td>299.880005</td>\n",
       "      <td>419.059998</td>\n",
       "      <td>455.559998</td>\n",
       "    </tr>\n",
       "    <tr>\n",
       "      <th>134</th>\n",
       "      <td>12/1/2021</td>\n",
       "      <td>397.050000</td>\n",
       "      <td>303.780000</td>\n",
       "      <td>432.750000</td>\n",
       "      <td>470.600000</td>\n",
       "    </tr>\n",
       "  </tbody>\n",
       "</table>\n",
       "<p>135 rows × 5 columns</p>\n",
       "</div>"
      ],
      "text/plain": [
       "          Date         QQQ         IWF         VOO         SPY\n",
       "0    10/1/2010   52.180000   53.889999  108.300003  118.489998\n",
       "1    11/1/2010   52.090000   54.500000  108.180000  118.489998\n",
       "2    12/1/2010   54.459999   57.259998  115.139999  125.750000\n",
       "3     1/1/2011   56.000000   58.650002  117.699997  128.679993\n",
       "4     2/1/2011   57.770000   60.660000  121.779999  133.149994\n",
       "..         ...         ...         ...         ...         ...\n",
       "130   8/1/2021  379.950012  290.899994  415.049988  451.559998\n",
       "131   9/1/2021  357.959991  274.040009  394.399994  429.140015\n",
       "132  10/1/2021  386.109985  298.000000  422.160004  459.250000\n",
       "133  11/1/2021  393.820007  299.880005  419.059998  455.559998\n",
       "134  12/1/2021  397.050000  303.780000  432.750000  470.600000\n",
       "\n",
       "[135 rows x 5 columns]"
      ]
     },
     "execution_count": 2,
     "metadata": {},
     "output_type": "execute_result"
    }
   ],
   "source": [
    "prices = pd.read_csv('data/etf_data.csv')\n",
    "prices"
   ]
  },
  {
   "cell_type": "code",
   "execution_count": 3,
   "metadata": {},
   "outputs": [],
   "source": [
    "prices = prices.set_index('Date')"
   ]
  },
  {
   "cell_type": "code",
   "execution_count": 4,
   "metadata": {},
   "outputs": [
    {
     "data": {
      "text/html": [
       "<div>\n",
       "<style scoped>\n",
       "    .dataframe tbody tr th:only-of-type {\n",
       "        vertical-align: middle;\n",
       "    }\n",
       "\n",
       "    .dataframe tbody tr th {\n",
       "        vertical-align: top;\n",
       "    }\n",
       "\n",
       "    .dataframe thead th {\n",
       "        text-align: right;\n",
       "    }\n",
       "</style>\n",
       "<table border=\"1\" class=\"dataframe\">\n",
       "  <thead>\n",
       "    <tr style=\"text-align: right;\">\n",
       "      <th></th>\n",
       "      <th>QQQ</th>\n",
       "      <th>IWF</th>\n",
       "      <th>VOO</th>\n",
       "      <th>SPY</th>\n",
       "    </tr>\n",
       "    <tr>\n",
       "      <th>Date</th>\n",
       "      <th></th>\n",
       "      <th></th>\n",
       "      <th></th>\n",
       "      <th></th>\n",
       "    </tr>\n",
       "  </thead>\n",
       "  <tbody>\n",
       "    <tr>\n",
       "      <th>10/1/2010</th>\n",
       "      <td>NaN</td>\n",
       "      <td>NaN</td>\n",
       "      <td>NaN</td>\n",
       "      <td>NaN</td>\n",
       "    </tr>\n",
       "    <tr>\n",
       "      <th>11/1/2010</th>\n",
       "      <td>-0.001725</td>\n",
       "      <td>0.011319</td>\n",
       "      <td>-0.001108</td>\n",
       "      <td>0.000000</td>\n",
       "    </tr>\n",
       "    <tr>\n",
       "      <th>12/1/2010</th>\n",
       "      <td>0.045498</td>\n",
       "      <td>0.050642</td>\n",
       "      <td>0.064337</td>\n",
       "      <td>0.061271</td>\n",
       "    </tr>\n",
       "    <tr>\n",
       "      <th>1/1/2011</th>\n",
       "      <td>0.028278</td>\n",
       "      <td>0.024275</td>\n",
       "      <td>0.022234</td>\n",
       "      <td>0.023300</td>\n",
       "    </tr>\n",
       "    <tr>\n",
       "      <th>2/1/2011</th>\n",
       "      <td>0.031607</td>\n",
       "      <td>0.034271</td>\n",
       "      <td>0.034664</td>\n",
       "      <td>0.034737</td>\n",
       "    </tr>\n",
       "    <tr>\n",
       "      <th>...</th>\n",
       "      <td>...</td>\n",
       "      <td>...</td>\n",
       "      <td>...</td>\n",
       "      <td>...</td>\n",
       "    </tr>\n",
       "    <tr>\n",
       "      <th>8/1/2021</th>\n",
       "      <td>0.042187</td>\n",
       "      <td>0.036485</td>\n",
       "      <td>0.029518</td>\n",
       "      <td>0.029760</td>\n",
       "    </tr>\n",
       "    <tr>\n",
       "      <th>9/1/2021</th>\n",
       "      <td>-0.057876</td>\n",
       "      <td>-0.057958</td>\n",
       "      <td>-0.049753</td>\n",
       "      <td>-0.049650</td>\n",
       "    </tr>\n",
       "    <tr>\n",
       "      <th>10/1/2021</th>\n",
       "      <td>0.078640</td>\n",
       "      <td>0.087432</td>\n",
       "      <td>0.070385</td>\n",
       "      <td>0.070164</td>\n",
       "    </tr>\n",
       "    <tr>\n",
       "      <th>11/1/2021</th>\n",
       "      <td>0.019968</td>\n",
       "      <td>0.006309</td>\n",
       "      <td>-0.007343</td>\n",
       "      <td>-0.008035</td>\n",
       "    </tr>\n",
       "    <tr>\n",
       "      <th>12/1/2021</th>\n",
       "      <td>0.008202</td>\n",
       "      <td>0.013005</td>\n",
       "      <td>0.032668</td>\n",
       "      <td>0.033014</td>\n",
       "    </tr>\n",
       "  </tbody>\n",
       "</table>\n",
       "<p>135 rows × 4 columns</p>\n",
       "</div>"
      ],
      "text/plain": [
       "                QQQ       IWF       VOO       SPY\n",
       "Date                                             \n",
       "10/1/2010       NaN       NaN       NaN       NaN\n",
       "11/1/2010 -0.001725  0.011319 -0.001108  0.000000\n",
       "12/1/2010  0.045498  0.050642  0.064337  0.061271\n",
       "1/1/2011   0.028278  0.024275  0.022234  0.023300\n",
       "2/1/2011   0.031607  0.034271  0.034664  0.034737\n",
       "...             ...       ...       ...       ...\n",
       "8/1/2021   0.042187  0.036485  0.029518  0.029760\n",
       "9/1/2021  -0.057876 -0.057958 -0.049753 -0.049650\n",
       "10/1/2021  0.078640  0.087432  0.070385  0.070164\n",
       "11/1/2021  0.019968  0.006309 -0.007343 -0.008035\n",
       "12/1/2021  0.008202  0.013005  0.032668  0.033014\n",
       "\n",
       "[135 rows x 4 columns]"
      ]
     },
     "execution_count": 4,
     "metadata": {},
     "output_type": "execute_result"
    }
   ],
   "source": [
    "returns = prices.pct_change()\n",
    "returns"
   ]
  },
  {
   "cell_type": "code",
   "execution_count": 5,
   "metadata": {},
   "outputs": [
    {
     "data": {
      "text/plain": [
       "QQQ    0.016220\n",
       "IWF    0.013813\n",
       "VOO    0.011136\n",
       "SPY    0.011091\n",
       "dtype: float64"
      ]
     },
     "execution_count": 5,
     "metadata": {},
     "output_type": "execute_result"
    }
   ],
   "source": [
    "returns.mean()"
   ]
  },
  {
   "cell_type": "code",
   "execution_count": 6,
   "metadata": {},
   "outputs": [
    {
     "data": {
      "text/plain": [
       "QQQ    0.044277\n",
       "IWF    0.040928\n",
       "VOO    0.038722\n",
       "SPY    0.038746\n",
       "dtype: float64"
      ]
     },
     "execution_count": 6,
     "metadata": {},
     "output_type": "execute_result"
    }
   ],
   "source": [
    "returns.std()"
   ]
  },
  {
   "cell_type": "code",
   "execution_count": 7,
   "metadata": {},
   "outputs": [
    {
     "data": {
      "text/plain": [
       "<AxesSubplot:xlabel='Date'>"
      ]
     },
     "execution_count": 7,
     "metadata": {},
     "output_type": "execute_result"
    },
    {
     "data": {
      "image/png": "[encoded data removed]",
      "text/plain": [
       "<Figure size 432x288 with 1 Axes>"
      ]
     },
     "metadata": {
      "needs_background": "light"
     },
     "output_type": "display_data"
    }
   ],
   "source": [
    "returns.plot.bar()"
   ]
  },
  {
   "cell_type": "code",
   "execution_count": 8,
   "metadata": {},
   "outputs": [
    {
     "data": {
      "text/plain": [
       "<AxesSubplot:xlabel='Date'>"
      ]
     },
     "execution_count": 8,
     "metadata": {},
     "output_type": "execute_result"
    },
    {
     "data": {
      "image/png": "[encoded data removed]",
      "text/plain": [
       "<Figure size 432x288 with 1 Axes>"
      ]
     },
     "metadata": {
      "needs_background": "light"
     },
     "output_type": "display_data"
    }
   ],
   "source": [
    "prices.plot()"
   ]
  },
  {
   "cell_type": "markdown",
   "metadata": {},
   "source": [
    "## Compounding Returns"
   ]
  },
  {
   "cell_type": "code",
   "execution_count": 9,
   "metadata": {},
   "outputs": [
    {
     "data": {
      "text/html": [
       "<div>\n",
       "<style scoped>\n",
       "    .dataframe tbody tr th:only-of-type {\n",
       "        vertical-align: middle;\n",
       "    }\n",
       "\n",
       "    .dataframe tbody tr th {\n",
       "        vertical-align: top;\n",
       "    }\n",
       "\n",
       "    .dataframe thead th {\n",
       "        text-align: right;\n",
       "    }\n",
       "</style>\n",
       "<table border=\"1\" class=\"dataframe\">\n",
       "  <thead>\n",
       "    <tr style=\"text-align: right;\">\n",
       "      <th></th>\n",
       "      <th>QQQ</th>\n",
       "      <th>IWF</th>\n",
       "      <th>VOO</th>\n",
       "      <th>SPY</th>\n",
       "    </tr>\n",
       "    <tr>\n",
       "      <th>Date</th>\n",
       "      <th></th>\n",
       "      <th></th>\n",
       "      <th></th>\n",
       "      <th></th>\n",
       "    </tr>\n",
       "  </thead>\n",
       "  <tbody>\n",
       "    <tr>\n",
       "      <th>10/1/2010</th>\n",
       "      <td>NaN</td>\n",
       "      <td>NaN</td>\n",
       "      <td>NaN</td>\n",
       "      <td>NaN</td>\n",
       "    </tr>\n",
       "    <tr>\n",
       "      <th>11/1/2010</th>\n",
       "      <td>0.998275</td>\n",
       "      <td>1.011319</td>\n",
       "      <td>0.998892</td>\n",
       "      <td>1.000000</td>\n",
       "    </tr>\n",
       "    <tr>\n",
       "      <th>12/1/2010</th>\n",
       "      <td>1.045498</td>\n",
       "      <td>1.050642</td>\n",
       "      <td>1.064337</td>\n",
       "      <td>1.061271</td>\n",
       "    </tr>\n",
       "    <tr>\n",
       "      <th>1/1/2011</th>\n",
       "      <td>1.028278</td>\n",
       "      <td>1.024275</td>\n",
       "      <td>1.022234</td>\n",
       "      <td>1.023300</td>\n",
       "    </tr>\n",
       "    <tr>\n",
       "      <th>2/1/2011</th>\n",
       "      <td>1.031607</td>\n",
       "      <td>1.034271</td>\n",
       "      <td>1.034664</td>\n",
       "      <td>1.034737</td>\n",
       "    </tr>\n",
       "    <tr>\n",
       "      <th>...</th>\n",
       "      <td>...</td>\n",
       "      <td>...</td>\n",
       "      <td>...</td>\n",
       "      <td>...</td>\n",
       "    </tr>\n",
       "    <tr>\n",
       "      <th>8/1/2021</th>\n",
       "      <td>1.042187</td>\n",
       "      <td>1.036485</td>\n",
       "      <td>1.029518</td>\n",
       "      <td>1.029760</td>\n",
       "    </tr>\n",
       "    <tr>\n",
       "      <th>9/1/2021</th>\n",
       "      <td>0.942124</td>\n",
       "      <td>0.942042</td>\n",
       "      <td>0.950247</td>\n",
       "      <td>0.950350</td>\n",
       "    </tr>\n",
       "    <tr>\n",
       "      <th>10/1/2021</th>\n",
       "      <td>1.078640</td>\n",
       "      <td>1.087432</td>\n",
       "      <td>1.070385</td>\n",
       "      <td>1.070164</td>\n",
       "    </tr>\n",
       "    <tr>\n",
       "      <th>11/1/2021</th>\n",
       "      <td>1.019968</td>\n",
       "      <td>1.006309</td>\n",
       "      <td>0.992657</td>\n",
       "      <td>0.991965</td>\n",
       "    </tr>\n",
       "    <tr>\n",
       "      <th>12/1/2021</th>\n",
       "      <td>1.008202</td>\n",
       "      <td>1.013005</td>\n",
       "      <td>1.032668</td>\n",
       "      <td>1.033014</td>\n",
       "    </tr>\n",
       "  </tbody>\n",
       "</table>\n",
       "<p>135 rows × 4 columns</p>\n",
       "</div>"
      ],
      "text/plain": [
       "                QQQ       IWF       VOO       SPY\n",
       "Date                                             \n",
       "10/1/2010       NaN       NaN       NaN       NaN\n",
       "11/1/2010  0.998275  1.011319  0.998892  1.000000\n",
       "12/1/2010  1.045498  1.050642  1.064337  1.061271\n",
       "1/1/2011   1.028278  1.024275  1.022234  1.023300\n",
       "2/1/2011   1.031607  1.034271  1.034664  1.034737\n",
       "...             ...       ...       ...       ...\n",
       "8/1/2021   1.042187  1.036485  1.029518  1.029760\n",
       "9/1/2021   0.942124  0.942042  0.950247  0.950350\n",
       "10/1/2021  1.078640  1.087432  1.070385  1.070164\n",
       "11/1/2021  1.019968  1.006309  0.992657  0.991965\n",
       "12/1/2021  1.008202  1.013005  1.032668  1.033014\n",
       "\n",
       "[135 rows x 4 columns]"
      ]
     },
     "execution_count": 9,
     "metadata": {},
     "output_type": "execute_result"
    }
   ],
   "source": [
    "returns + 1"
   ]
  },
  {
   "cell_type": "code",
   "execution_count": 10,
   "metadata": {},
   "outputs": [
    {
     "data": {
      "text/plain": [
       "QQQ    7.609237\n",
       "IWF    5.637039\n",
       "VOO    3.995845\n",
       "SPY    3.971643\n",
       "dtype: float64"
      ]
     },
     "execution_count": 10,
     "metadata": {},
     "output_type": "execute_result"
    }
   ],
   "source": [
    "np.prod(returns+1)"
   ]
  },
  {
   "cell_type": "code",
   "execution_count": 11,
   "metadata": {},
   "outputs": [
    {
     "data": {
      "text/plain": [
       "QQQ    7.609237\n",
       "IWF    5.637039\n",
       "VOO    3.995845\n",
       "SPY    3.971643\n",
       "dtype: float64"
      ]
     },
     "execution_count": 11,
     "metadata": {},
     "output_type": "execute_result"
    }
   ],
   "source": [
    "(returns+1).prod()"
   ]
  },
  {
   "cell_type": "code",
   "execution_count": 12,
   "metadata": {},
   "outputs": [
    {
     "data": {
      "text/plain": [
       "QQQ    6.609237\n",
       "IWF    4.637039\n",
       "VOO    2.995845\n",
       "SPY    2.971643\n",
       "dtype: float64"
      ]
     },
     "execution_count": 12,
     "metadata": {},
     "output_type": "execute_result"
    }
   ],
   "source": [
    "(returns+1).prod()-1"
   ]
  },
  {
   "cell_type": "code",
   "execution_count": 13,
   "metadata": {},
   "outputs": [
    {
     "data": {
      "text/plain": [
       "QQQ    660.92\n",
       "IWF    463.70\n",
       "VOO    299.58\n",
       "SPY    297.16\n",
       "dtype: float64"
      ]
     },
     "execution_count": 13,
     "metadata": {},
     "output_type": "execute_result"
    }
   ],
   "source": [
    "(((returns+1).prod()-1)*100).round(2)"
   ]
  },
  {
   "cell_type": "markdown",
   "metadata": {},
   "source": [
    "## Annualizing Returns\n",
    "\n",
    "To annualize a return for a period, you compound the return for as many times as there are periods in a year. For instance, to annualize a monthly return you compund that return 12 times. The formula to annualize a monthly return $R_m$ is:\n",
    "\n",
    "$$ (1+R_m)^{12} - 1$$\n",
    "\n",
    "To annualize a quarterly return $R_q$ you would get:\n",
    "\n",
    "$$ (1+R_q)^{4} - 1$$\n",
    "\n",
    "And finally, to annualize a daily return $R_d$ you would get:\n",
    "\n",
    "$$ (1+R_d)^{252} - 1$$\n",
    "\n",
    "For example, to annualize a 1% monthly, and 4% quarterly and a 0.01% daily return you would do:"
   ]
  },
  {
   "cell_type": "code",
   "execution_count": 14,
   "metadata": {},
   "outputs": [
    {
     "data": {
      "text/plain": [
       "0.12682503013196977"
      ]
     },
     "execution_count": 14,
     "metadata": {},
     "output_type": "execute_result"
    }
   ],
   "source": [
    "rm = 0.01\n",
    "(1+rm)**12 - 1"
   ]
  },
  {
   "cell_type": "code",
   "execution_count": 15,
   "metadata": {},
   "outputs": [
    {
     "data": {
      "text/plain": [
       "0.1698585600000002"
      ]
     },
     "execution_count": 15,
     "metadata": {},
     "output_type": "execute_result"
    }
   ],
   "source": [
    "rq = 0.04\n",
    "(1+rq)**4 - 1"
   ]
  }
 ],
 "metadata": {
  "kernelspec": {
   "display_name": "Python 3",
   "language": "python",
   "name": "python3"
  },
  "language_info": {
   "codemirror_mode": {
    "name": "ipython",
    "version": 3
   },
   "file_extension": ".py",
   "mimetype": "text/x-python",
   "name": "python",
   "nbconvert_exporter": "python",
   "pygments_lexer": "ipython3",
   "version": "3.8.5"
  }
 },
 "nbformat": 4,
 "nbformat_minor": 2
}
