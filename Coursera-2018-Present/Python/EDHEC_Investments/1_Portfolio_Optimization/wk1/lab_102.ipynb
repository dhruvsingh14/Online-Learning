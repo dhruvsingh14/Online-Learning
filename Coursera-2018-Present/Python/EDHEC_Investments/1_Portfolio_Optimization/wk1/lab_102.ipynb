{
 "cells": [
  {
   "cell_type": "markdown",
   "metadata": {},
   "source": [
    "#### Sr. Engineer: Dhruv Singh <br> Course Name: EDHEC Portfolio Optimization <br> Lesson Name: Volatility and Risk <br> Date Updated: 01/09/2022"
   ]
  },
  {
   "cell_type": "markdown",
   "metadata": {},
   "source": [
    "# Volatility and Risk"
   ]
  },
  {
   "cell_type": "code",
   "execution_count": 1,
   "metadata": {},
   "outputs": [
    {
     "data": {
      "text/html": [
       "<div>\n",
       "<style scoped>\n",
       "    .dataframe tbody tr th:only-of-type {\n",
       "        vertical-align: middle;\n",
       "    }\n",
       "\n",
       "    .dataframe tbody tr th {\n",
       "        vertical-align: top;\n",
       "    }\n",
       "\n",
       "    .dataframe thead th {\n",
       "        text-align: right;\n",
       "    }\n",
       "</style>\n",
       "<table border=\"1\" class=\"dataframe\">\n",
       "  <thead>\n",
       "    <tr style=\"text-align: right;\">\n",
       "      <th></th>\n",
       "      <th>QQQ</th>\n",
       "      <th>IWF</th>\n",
       "      <th>VOO</th>\n",
       "      <th>SPY</th>\n",
       "    </tr>\n",
       "    <tr>\n",
       "      <th>Date</th>\n",
       "      <th></th>\n",
       "      <th></th>\n",
       "      <th></th>\n",
       "      <th></th>\n",
       "    </tr>\n",
       "  </thead>\n",
       "  <tbody>\n",
       "    <tr>\n",
       "      <th>10/1/2010</th>\n",
       "      <td>NaN</td>\n",
       "      <td>NaN</td>\n",
       "      <td>NaN</td>\n",
       "      <td>NaN</td>\n",
       "    </tr>\n",
       "    <tr>\n",
       "      <th>11/1/2010</th>\n",
       "      <td>-0.001725</td>\n",
       "      <td>0.011319</td>\n",
       "      <td>-0.001108</td>\n",
       "      <td>0.000000</td>\n",
       "    </tr>\n",
       "    <tr>\n",
       "      <th>12/1/2010</th>\n",
       "      <td>0.045498</td>\n",
       "      <td>0.050642</td>\n",
       "      <td>0.064337</td>\n",
       "      <td>0.061271</td>\n",
       "    </tr>\n",
       "    <tr>\n",
       "      <th>1/1/2011</th>\n",
       "      <td>0.028278</td>\n",
       "      <td>0.024275</td>\n",
       "      <td>0.022234</td>\n",
       "      <td>0.023300</td>\n",
       "    </tr>\n",
       "    <tr>\n",
       "      <th>2/1/2011</th>\n",
       "      <td>0.031607</td>\n",
       "      <td>0.034271</td>\n",
       "      <td>0.034664</td>\n",
       "      <td>0.034737</td>\n",
       "    </tr>\n",
       "    <tr>\n",
       "      <th>...</th>\n",
       "      <td>...</td>\n",
       "      <td>...</td>\n",
       "      <td>...</td>\n",
       "      <td>...</td>\n",
       "    </tr>\n",
       "    <tr>\n",
       "      <th>8/1/2021</th>\n",
       "      <td>0.042187</td>\n",
       "      <td>0.036485</td>\n",
       "      <td>0.029518</td>\n",
       "      <td>0.029760</td>\n",
       "    </tr>\n",
       "    <tr>\n",
       "      <th>9/1/2021</th>\n",
       "      <td>-0.057876</td>\n",
       "      <td>-0.057958</td>\n",
       "      <td>-0.049753</td>\n",
       "      <td>-0.049650</td>\n",
       "    </tr>\n",
       "    <tr>\n",
       "      <th>10/1/2021</th>\n",
       "      <td>0.078640</td>\n",
       "      <td>0.087432</td>\n",
       "      <td>0.070385</td>\n",
       "      <td>0.070164</td>\n",
       "    </tr>\n",
       "    <tr>\n",
       "      <th>11/1/2021</th>\n",
       "      <td>0.019968</td>\n",
       "      <td>0.006309</td>\n",
       "      <td>-0.007343</td>\n",
       "      <td>-0.008035</td>\n",
       "    </tr>\n",
       "    <tr>\n",
       "      <th>12/1/2021</th>\n",
       "      <td>0.008202</td>\n",
       "      <td>0.013005</td>\n",
       "      <td>0.032668</td>\n",
       "      <td>0.033014</td>\n",
       "    </tr>\n",
       "  </tbody>\n",
       "</table>\n",
       "<p>135 rows × 4 columns</p>\n",
       "</div>"
      ],
      "text/plain": [
       "                QQQ       IWF       VOO       SPY\n",
       "Date                                             \n",
       "10/1/2010       NaN       NaN       NaN       NaN\n",
       "11/1/2010 -0.001725  0.011319 -0.001108  0.000000\n",
       "12/1/2010  0.045498  0.050642  0.064337  0.061271\n",
       "1/1/2011   0.028278  0.024275  0.022234  0.023300\n",
       "2/1/2011   0.031607  0.034271  0.034664  0.034737\n",
       "...             ...       ...       ...       ...\n",
       "8/1/2021   0.042187  0.036485  0.029518  0.029760\n",
       "9/1/2021  -0.057876 -0.057958 -0.049753 -0.049650\n",
       "10/1/2021  0.078640  0.087432  0.070385  0.070164\n",
       "11/1/2021  0.019968  0.006309 -0.007343 -0.008035\n",
       "12/1/2021  0.008202  0.013005  0.032668  0.033014\n",
       "\n",
       "[135 rows x 4 columns]"
      ]
     },
     "execution_count": 1,
     "metadata": {},
     "output_type": "execute_result"
    }
   ],
   "source": [
    "import pandas as pd\n",
    "prices = pd.read_csv(\"data/etf_data.csv\")\n",
    "prices = prices.set_index('Date')\n",
    "returns = prices.pct_change()\n",
    "returns"
   ]
  },
  {
   "cell_type": "code",
   "execution_count": 2,
   "metadata": {},
   "outputs": [
    {
     "data": {
      "text/html": [
       "<div>\n",
       "<style scoped>\n",
       "    .dataframe tbody tr th:only-of-type {\n",
       "        vertical-align: middle;\n",
       "    }\n",
       "\n",
       "    .dataframe tbody tr th {\n",
       "        vertical-align: top;\n",
       "    }\n",
       "\n",
       "    .dataframe thead th {\n",
       "        text-align: right;\n",
       "    }\n",
       "</style>\n",
       "<table border=\"1\" class=\"dataframe\">\n",
       "  <thead>\n",
       "    <tr style=\"text-align: right;\">\n",
       "      <th></th>\n",
       "      <th>QQQ</th>\n",
       "      <th>IWF</th>\n",
       "      <th>VOO</th>\n",
       "      <th>SPY</th>\n",
       "    </tr>\n",
       "    <tr>\n",
       "      <th>Date</th>\n",
       "      <th></th>\n",
       "      <th></th>\n",
       "      <th></th>\n",
       "      <th></th>\n",
       "    </tr>\n",
       "  </thead>\n",
       "  <tbody>\n",
       "    <tr>\n",
       "      <th>11/1/2010</th>\n",
       "      <td>-0.001725</td>\n",
       "      <td>0.011319</td>\n",
       "      <td>-0.001108</td>\n",
       "      <td>0.000000</td>\n",
       "    </tr>\n",
       "    <tr>\n",
       "      <th>12/1/2010</th>\n",
       "      <td>0.045498</td>\n",
       "      <td>0.050642</td>\n",
       "      <td>0.064337</td>\n",
       "      <td>0.061271</td>\n",
       "    </tr>\n",
       "    <tr>\n",
       "      <th>1/1/2011</th>\n",
       "      <td>0.028278</td>\n",
       "      <td>0.024275</td>\n",
       "      <td>0.022234</td>\n",
       "      <td>0.023300</td>\n",
       "    </tr>\n",
       "    <tr>\n",
       "      <th>2/1/2011</th>\n",
       "      <td>0.031607</td>\n",
       "      <td>0.034271</td>\n",
       "      <td>0.034664</td>\n",
       "      <td>0.034737</td>\n",
       "    </tr>\n",
       "    <tr>\n",
       "      <th>3/1/2011</th>\n",
       "      <td>-0.005885</td>\n",
       "      <td>-0.003132</td>\n",
       "      <td>-0.004434</td>\n",
       "      <td>-0.004206</td>\n",
       "    </tr>\n",
       "    <tr>\n",
       "      <th>...</th>\n",
       "      <td>...</td>\n",
       "      <td>...</td>\n",
       "      <td>...</td>\n",
       "      <td>...</td>\n",
       "    </tr>\n",
       "    <tr>\n",
       "      <th>8/1/2021</th>\n",
       "      <td>0.042187</td>\n",
       "      <td>0.036485</td>\n",
       "      <td>0.029518</td>\n",
       "      <td>0.029760</td>\n",
       "    </tr>\n",
       "    <tr>\n",
       "      <th>9/1/2021</th>\n",
       "      <td>-0.057876</td>\n",
       "      <td>-0.057958</td>\n",
       "      <td>-0.049753</td>\n",
       "      <td>-0.049650</td>\n",
       "    </tr>\n",
       "    <tr>\n",
       "      <th>10/1/2021</th>\n",
       "      <td>0.078640</td>\n",
       "      <td>0.087432</td>\n",
       "      <td>0.070385</td>\n",
       "      <td>0.070164</td>\n",
       "    </tr>\n",
       "    <tr>\n",
       "      <th>11/1/2021</th>\n",
       "      <td>0.019968</td>\n",
       "      <td>0.006309</td>\n",
       "      <td>-0.007343</td>\n",
       "      <td>-0.008035</td>\n",
       "    </tr>\n",
       "    <tr>\n",
       "      <th>12/1/2021</th>\n",
       "      <td>0.008202</td>\n",
       "      <td>0.013005</td>\n",
       "      <td>0.032668</td>\n",
       "      <td>0.033014</td>\n",
       "    </tr>\n",
       "  </tbody>\n",
       "</table>\n",
       "<p>134 rows × 4 columns</p>\n",
       "</div>"
      ],
      "text/plain": [
       "                QQQ       IWF       VOO       SPY\n",
       "Date                                             \n",
       "11/1/2010 -0.001725  0.011319 -0.001108  0.000000\n",
       "12/1/2010  0.045498  0.050642  0.064337  0.061271\n",
       "1/1/2011   0.028278  0.024275  0.022234  0.023300\n",
       "2/1/2011   0.031607  0.034271  0.034664  0.034737\n",
       "3/1/2011  -0.005885 -0.003132 -0.004434 -0.004206\n",
       "...             ...       ...       ...       ...\n",
       "8/1/2021   0.042187  0.036485  0.029518  0.029760\n",
       "9/1/2021  -0.057876 -0.057958 -0.049753 -0.049650\n",
       "10/1/2021  0.078640  0.087432  0.070385  0.070164\n",
       "11/1/2021  0.019968  0.006309 -0.007343 -0.008035\n",
       "12/1/2021  0.008202  0.013005  0.032668  0.033014\n",
       "\n",
       "[134 rows x 4 columns]"
      ]
     },
     "execution_count": 2,
     "metadata": {},
     "output_type": "execute_result"
    }
   ],
   "source": [
    "# dropping first row\n",
    "returns = returns.dropna()\n",
    "returns"
   ]
  },
  {
   "cell_type": "code",
   "execution_count": 3,
   "metadata": {},
   "outputs": [
    {
     "data": {
      "text/plain": [
       "QQQ    0.044111\n",
       "IWF    0.040775\n",
       "VOO    0.038577\n",
       "SPY    0.038601\n",
       "dtype: float64"
      ]
     },
     "execution_count": 3,
     "metadata": {},
     "output_type": "execute_result"
    }
   ],
   "source": [
    "# standard deviation manually\n",
    "deviations = returns - returns.mean()\n",
    "squared_deviations = deviations**2\n",
    "mean_squared_deviations = squared_deviations.mean()\n",
    "\n",
    "import numpy as np\n",
    "\n",
    "volatility = np.sqrt(mean_squared_deviations)\n",
    "volatility"
   ]
  },
  {
   "cell_type": "code",
   "execution_count": 4,
   "metadata": {},
   "outputs": [
    {
     "data": {
      "text/plain": [
       "QQQ    0.044277\n",
       "IWF    0.040928\n",
       "VOO    0.038722\n",
       "SPY    0.038746\n",
       "dtype: float64"
      ]
     },
     "execution_count": 4,
     "metadata": {},
     "output_type": "execute_result"
    }
   ],
   "source": [
    "# using function\n",
    "returns.std() # slight difference, based on method"
   ]
  },
  {
   "cell_type": "code",
   "execution_count": 5,
   "metadata": {},
   "outputs": [
    {
     "data": {
      "text/plain": [
       "(134, 4)"
      ]
     },
     "execution_count": 5,
     "metadata": {},
     "output_type": "execute_result"
    }
   ],
   "source": [
    "returns.shape"
   ]
  },
  {
   "cell_type": "markdown",
   "metadata": {},
   "source": [
    "Just as we can with a list, we can access the elements of a tuple using an index, starting at 0. Therefore, to get the number of rows in the DataFrame, we extract the 0th element of the tuple."
   ]
  },
  {
   "cell_type": "code",
   "execution_count": 6,
   "metadata": {},
   "outputs": [
    {
     "data": {
      "text/plain": [
       "QQQ    0.044277\n",
       "IWF    0.040928\n",
       "VOO    0.038722\n",
       "SPY    0.038746\n",
       "dtype: float64"
      ]
     },
     "execution_count": 6,
     "metadata": {},
     "output_type": "execute_result"
    }
   ],
   "source": [
    "# more accurate manual calculation of standard deviation\n",
    "number_of_obs = returns.shape[0]\n",
    "mean_squared_deviations = squared_deviations.sum()/(number_of_obs-1)\n",
    "volatility = np.sqrt(mean_squared_deviations)\n",
    "volatility"
   ]
  },
  {
   "cell_type": "code",
   "execution_count": 7,
   "metadata": {},
   "outputs": [
    {
     "data": {
      "text/plain": [
       "QQQ    0.044277\n",
       "IWF    0.040928\n",
       "VOO    0.038722\n",
       "SPY    0.038746\n",
       "dtype: float64"
      ]
     },
     "execution_count": 7,
     "metadata": {},
     "output_type": "execute_result"
    }
   ],
   "source": [
    "# re-computing using function\n",
    "returns.std()"
   ]
  },
  {
   "cell_type": "markdown",
   "metadata": {},
   "source": [
    "# Annualizing Volatility"
   ]
  },
  {
   "cell_type": "code",
   "execution_count": null,
   "metadata": {},
   "outputs": [],
   "source": [
    "# to annualize volatility of monthly series, muiltiply by square root of 12\n",
    "annualized_vol = returns.std()*(12**0.5)\n",
    "annualized_vol"
   ]
  },
  {
   "cell_type": "markdown",
   "metadata": {},
   "source": [
    "# Risk Adjusted Returns"
   ]
  },
  {
   "cell_type": "code",
   "execution_count": 8,
   "metadata": {},
   "outputs": [
    {
     "data": {
      "text/html": [
       "<div>\n",
       "<style scoped>\n",
       "    .dataframe tbody tr th:only-of-type {\n",
       "        vertical-align: middle;\n",
       "    }\n",
       "\n",
       "    .dataframe tbody tr th {\n",
       "        vertical-align: top;\n",
       "    }\n",
       "\n",
       "    .dataframe thead th {\n",
       "        text-align: right;\n",
       "    }\n",
       "</style>\n",
       "<table border=\"1\" class=\"dataframe\">\n",
       "  <thead>\n",
       "    <tr style=\"text-align: right;\">\n",
       "      <th></th>\n",
       "      <th>QQQ</th>\n",
       "      <th>IWF</th>\n",
       "      <th>VOO</th>\n",
       "      <th>SPY</th>\n",
       "    </tr>\n",
       "    <tr>\n",
       "      <th>Date</th>\n",
       "      <th></th>\n",
       "      <th></th>\n",
       "      <th></th>\n",
       "      <th></th>\n",
       "    </tr>\n",
       "  </thead>\n",
       "  <tbody>\n",
       "    <tr>\n",
       "      <th>2010-10-01</th>\n",
       "      <td>52.180000</td>\n",
       "      <td>53.889999</td>\n",
       "      <td>108.300003</td>\n",
       "      <td>118.489998</td>\n",
       "    </tr>\n",
       "    <tr>\n",
       "      <th>2010-11-01</th>\n",
       "      <td>52.090000</td>\n",
       "      <td>54.500000</td>\n",
       "      <td>108.180000</td>\n",
       "      <td>118.489998</td>\n",
       "    </tr>\n",
       "    <tr>\n",
       "      <th>2010-12-01</th>\n",
       "      <td>54.459999</td>\n",
       "      <td>57.259998</td>\n",
       "      <td>115.139999</td>\n",
       "      <td>125.750000</td>\n",
       "    </tr>\n",
       "    <tr>\n",
       "      <th>2011-01-01</th>\n",
       "      <td>56.000000</td>\n",
       "      <td>58.650002</td>\n",
       "      <td>117.699997</td>\n",
       "      <td>128.679993</td>\n",
       "    </tr>\n",
       "    <tr>\n",
       "      <th>2011-02-01</th>\n",
       "      <td>57.770000</td>\n",
       "      <td>60.660000</td>\n",
       "      <td>121.779999</td>\n",
       "      <td>133.149994</td>\n",
       "    </tr>\n",
       "  </tbody>\n",
       "</table>\n",
       "</div>"
      ],
      "text/plain": [
       "                  QQQ        IWF         VOO         SPY\n",
       "Date                                                    \n",
       "2010-10-01  52.180000  53.889999  108.300003  118.489998\n",
       "2010-11-01  52.090000  54.500000  108.180000  118.489998\n",
       "2010-12-01  54.459999  57.259998  115.139999  125.750000\n",
       "2011-01-01  56.000000  58.650002  117.699997  128.679993\n",
       "2011-02-01  57.770000  60.660000  121.779999  133.149994"
      ]
     },
     "execution_count": 8,
     "metadata": {},
     "output_type": "execute_result"
    }
   ],
   "source": [
    "# re-reading in data\n",
    "me_m = pd.read_csv(\"data/etf_data.csv\",\n",
    "                   header=0, index_col=0, parse_dates=True, na_values=-99.99)\n",
    "me_m.head()"
   ]
  },
  {
   "cell_type": "code",
   "execution_count": 10,
   "metadata": {},
   "outputs": [
    {
     "data": {
      "text/html": [
       "<div>\n",
       "<style scoped>\n",
       "    .dataframe tbody tr th:only-of-type {\n",
       "        vertical-align: middle;\n",
       "    }\n",
       "\n",
       "    .dataframe tbody tr th {\n",
       "        vertical-align: top;\n",
       "    }\n",
       "\n",
       "    .dataframe thead th {\n",
       "        text-align: right;\n",
       "    }\n",
       "</style>\n",
       "<table border=\"1\" class=\"dataframe\">\n",
       "  <thead>\n",
       "    <tr style=\"text-align: right;\">\n",
       "      <th></th>\n",
       "      <th>SPY</th>\n",
       "      <th>QQQ</th>\n",
       "    </tr>\n",
       "    <tr>\n",
       "      <th>Date</th>\n",
       "      <th></th>\n",
       "      <th></th>\n",
       "    </tr>\n",
       "  </thead>\n",
       "  <tbody>\n",
       "    <tr>\n",
       "      <th>2010-11-01</th>\n",
       "      <td>0.000000</td>\n",
       "      <td>-0.001725</td>\n",
       "    </tr>\n",
       "    <tr>\n",
       "      <th>2010-12-01</th>\n",
       "      <td>0.061271</td>\n",
       "      <td>0.045498</td>\n",
       "    </tr>\n",
       "    <tr>\n",
       "      <th>2011-01-01</th>\n",
       "      <td>0.023300</td>\n",
       "      <td>0.028278</td>\n",
       "    </tr>\n",
       "    <tr>\n",
       "      <th>2011-02-01</th>\n",
       "      <td>0.034737</td>\n",
       "      <td>0.031607</td>\n",
       "    </tr>\n",
       "    <tr>\n",
       "      <th>2011-03-01</th>\n",
       "      <td>-0.004206</td>\n",
       "      <td>-0.005885</td>\n",
       "    </tr>\n",
       "  </tbody>\n",
       "</table>\n",
       "</div>"
      ],
      "text/plain": [
       "                 SPY       QQQ\n",
       "Date                          \n",
       "2010-11-01  0.000000 -0.001725\n",
       "2010-12-01  0.061271  0.045498\n",
       "2011-01-01  0.023300  0.028278\n",
       "2011-02-01  0.034737  0.031607\n",
       "2011-03-01 -0.004206 -0.005885"
      ]
     },
     "execution_count": 10,
     "metadata": {},
     "output_type": "execute_result"
    }
   ],
   "source": [
    "cols = ['SPY', 'QQQ']\n",
    "returns = me_m[cols].pct_change()\n",
    "returns = returns.dropna()\n",
    "returns.head()"
   ]
  },
  {
   "cell_type": "code",
   "execution_count": 11,
   "metadata": {},
   "outputs": [
    {
     "data": {
      "text/plain": [
       "<AxesSubplot:xlabel='Date'>"
      ]
     },
     "execution_count": 11,
     "metadata": {},
     "output_type": "execute_result"
    },
    {
     "data": {
      "image/png": "[encoded data removed]",
      "text/plain": [
       "<Figure size 432x288 with 1 Axes>"
      ]
     },
     "metadata": {
      "needs_background": "light"
     },
     "output_type": "display_data"
    }
   ],
   "source": [
    "returns.plot()"
   ]
  },
  {
   "cell_type": "code",
   "execution_count": 14,
   "metadata": {},
   "outputs": [],
   "source": [
    "# renaming columns\n",
    "returns.columns = ['SPY', 'QQQ']"
   ]
  },
  {
   "cell_type": "code",
   "execution_count": 15,
   "metadata": {},
   "outputs": [
    {
     "data": {
      "text/plain": [
       "<AxesSubplot:xlabel='Date'>"
      ]
     },
     "execution_count": 15,
     "metadata": {},
     "output_type": "execute_result"
    },
    {
     "data": {
      "image/png": "[encoded data removed]",
      "text/plain": [
       "<Figure size 432x288 with 1 Axes>"
      ]
     },
     "metadata": {
      "needs_background": "light"
     },
     "output_type": "display_data"
    }
   ],
   "source": [
    "returns.plot()"
   ]
  },
  {
   "cell_type": "code",
   "execution_count": 16,
   "metadata": {},
   "outputs": [
    {
     "data": {
      "text/plain": [
       "SPY    0.134219\n",
       "QQQ    0.153379\n",
       "dtype: float64"
      ]
     },
     "execution_count": 16,
     "metadata": {},
     "output_type": "execute_result"
    }
   ],
   "source": [
    "# annualizing volatility\n",
    "annualized_vol = returns.std()*np.sqrt(12)\n",
    "annualized_vol"
   ]
  },
  {
   "cell_type": "markdown",
   "metadata": {},
   "source": [
    "### Computing Annualized Returns"
   ]
  },
  {
   "cell_type": "code",
   "execution_count": 17,
   "metadata": {},
   "outputs": [
    {
     "data": {
      "text/plain": [
       "SPY    0.010346\n",
       "QQQ    0.015260\n",
       "dtype: float64"
      ]
     },
     "execution_count": 17,
     "metadata": {},
     "output_type": "execute_result"
    }
   ],
   "source": [
    "n_months = returns.shape[0]\n",
    "return_per_month = (returns+1).prod()**(1/n_months) - 1\n",
    "return_per_month"
   ]
  },
  {
   "cell_type": "code",
   "execution_count": 18,
   "metadata": {},
   "outputs": [],
   "source": [
    "annualized_return = (return_per_month + 1)**12-1"
   ]
  },
  {
   "cell_type": "code",
   "execution_count": 19,
   "metadata": {},
   "outputs": [
    {
     "data": {
      "text/plain": [
       "SPY    0.131460\n",
       "QQQ    0.199295\n",
       "dtype: float64"
      ]
     },
     "execution_count": 19,
     "metadata": {},
     "output_type": "execute_result"
    }
   ],
   "source": [
    "annualized_return = (returns+1).prod()**(12/n_months) - 1\n",
    "annualized_return"
   ]
  },
  {
   "cell_type": "code",
   "execution_count": 20,
   "metadata": {},
   "outputs": [
    {
     "data": {
      "text/plain": [
       "SPY    0.979443\n",
       "QQQ    1.299362\n",
       "dtype: float64"
      ]
     },
     "execution_count": 20,
     "metadata": {},
     "output_type": "execute_result"
    }
   ],
   "source": [
    "annualized_return/annualized_vol"
   ]
  },
  {
   "cell_type": "code",
   "execution_count": 21,
   "metadata": {},
   "outputs": [
    {
     "data": {
      "text/plain": [
       "SPY    0.755928\n",
       "QQQ    1.103769\n",
       "dtype: float64"
      ]
     },
     "execution_count": 21,
     "metadata": {},
     "output_type": "execute_result"
    }
   ],
   "source": [
    "riskfree_rate = 0.03 # may need to update this\n",
    "excess_return = annualized_return - riskfree_rate\n",
    "sharpe_ratio = excess_return/annualized_vol\n",
    "sharpe_ratio"
   ]
  }
 ],
 "metadata": {
  "kernelspec": {
   "display_name": "Python 3",
   "language": "python",
   "name": "python3"
  },
  "language_info": {
   "codemirror_mode": {
    "name": "ipython",
    "version": 3
   },
   "file_extension": ".py",
   "mimetype": "text/x-python",
   "name": "python",
   "nbconvert_exporter": "python",
   "pygments_lexer": "ipython3",
   "version": "3.8.5"
  }
 },
 "nbformat": 4,
 "nbformat_minor": 2
}
